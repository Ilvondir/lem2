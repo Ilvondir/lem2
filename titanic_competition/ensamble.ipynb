{
 "cells": [
  {
   "cell_type": "markdown",
   "metadata": {},
   "source": [
    "## Current best\n",
    "- Without cabin\n",
    "- Discretize Age on 5 categories and distance=0.25\n",
    "- Discretize Fare on 5 categories and distance=0.15"
   ]
  },
  {
   "cell_type": "code",
   "execution_count": null,
   "metadata": {},
   "outputs": [],
   "source": [
    "import pandas as pd\n",
    "import sys\n",
    "import os\n",
    "current_dir = os.getcwd()\n",
    "parent_dir = os.path.abspath(os.path.join(current_dir, '..'))\n",
    "sys.path.append(parent_dir)\n",
    "from discretizer import Discretizer\n",
    "from lem2 import *"
   ]
  },
  {
   "cell_type": "code",
   "execution_count": null,
   "metadata": {},
   "outputs": [],
   "source": [
    "test_data = pd.read_csv(\"./test.csv\").drop([\"Name\", \"Ticket\", \"Cabin\"], axis=1)\n",
    "train_data = pd.read_csv(\"./train.csv\").drop(['PassengerId', \"Name\", \"Ticket\", \"Cabin\"], axis=1)\n",
    "\n",
    "print(f\"train_data.shape: {train_data.shape}\")\n",
    "print(f\"test_data.shape: {test_data.shape}\")"
   ]
  },
  {
   "cell_type": "code",
   "execution_count": null,
   "metadata": {},
   "outputs": [],
   "source": [
    "disc = Discretizer()\n",
    "disc.fit(train_data, ['Age'], number_of_output_values=5, distance_from_extreme_values=.25)\n",
    "disc.fit(train_data, ['Fare'], number_of_output_values=4, distance_from_extreme_values=.2, verbose=1)\n",
    "\n",
    "train_data = disc.discretize(train_data)\n",
    "test_data = disc.discretize(test_data)\n",
    "\n",
    "print(train_data['Survived'].value_counts())"
   ]
  },
  {
   "cell_type": "code",
   "execution_count": null,
   "metadata": {},
   "outputs": [],
   "source": [
    "preds = pd.DataFrame({})\n",
    "\n",
    "for column in train_data.drop(\"Survived\", axis=1).columns:\n",
    "    print(f\"Model without {column}:\")\n",
    "    lem2 = LEM2()\n",
    "    lem2.fit(train_data.drop([\"Survived\", column], axis=1), train_data[\"Survived\"], only_certain=False, verbose=1)\n",
    "    lem2.evaluate(train_data.drop([\"Survived\", column], axis=1), train_data[\"Survived\"])\n",
    "    \n",
    "    preds[f\"without {column}\"] = lem2.predict(test_data)\n",
    "    \n",
    "print(f\"Model with all columns:\")\n",
    "lem2 = LEM2()\n",
    "lem2.fit(train_data.drop([\"Survived\"], axis=1), train_data[\"Survived\"], only_certain=False, verbose=1)\n",
    "lem2.evaluate(train_data.drop([\"Survived\"], axis=1), train_data[\"Survived\"])\n",
    "preds[f\"all\"] = lem2.predict(test_data)"
   ]
  },
  {
   "cell_type": "code",
   "execution_count": null,
   "metadata": {},
   "outputs": [],
   "source": [
    "preds\n",
    "\n",
    "def get_mode(row):\n",
    "    return row.mode().iloc[0]\n",
    "    \n",
    "mv = preds.apply(lambda row: get_mode(row), axis=1)\n",
    "\n",
    "preds[\"mode\"] = mv\n",
    "preds\n",
    "\n",
    "test_data[\"Survived\"] = preds[\"mode\"]"
   ]
  },
  {
   "cell_type": "code",
   "execution_count": null,
   "metadata": {},
   "outputs": [],
   "source": [
    "# test_data[\"Survived\"] = lem2.predict(test_data)\n",
    "test_data[\"Survived\"] = test_data[\"Survived\"].astype(int)\n",
    "test_data[[\"PassengerId\", \"Survived\"]].to_csv(\"preds.csv\", index=False)"
   ]
  }
 ],
 "metadata": {
  "kernelspec": {
   "display_name": "venv",
   "language": "python",
   "name": "python3"
  },
  "language_info": {
   "codemirror_mode": {
    "name": "ipython",
    "version": 3
   },
   "file_extension": ".py",
   "mimetype": "text/x-python",
   "name": "python",
   "nbconvert_exporter": "python",
   "pygments_lexer": "ipython3",
   "version": "3.12.2"
  }
 },
 "nbformat": 4,
 "nbformat_minor": 2
}
